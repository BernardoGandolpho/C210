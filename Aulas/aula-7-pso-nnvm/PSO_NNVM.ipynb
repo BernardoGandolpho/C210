{
  "cells": [
    {
      "cell_type": "code",
      "execution_count": 1,
      "metadata": {
        "id": "vCDlT3A7RiD3"
      },
      "outputs": [],
      "source": [
        "import random"
      ]
    },
    {
      "cell_type": "markdown",
      "metadata": {
        "id": "uIcSXLmpYJIm"
      },
      "source": [
        "#### Classe para a particula"
      ]
    },
    {
      "cell_type": "code",
      "execution_count": 2,
      "metadata": {
        "id": "8aElMEiDYDm1"
      },
      "outputs": [],
      "source": [
        "class Particle:\n",
        "    def __init__(self, num_dimensions, bounds):\n",
        "      self.num_dimensions = num_dimensions\n",
        "      \n",
        "      self.position = []\n",
        "      self.velocity = []\n",
        "\n",
        "      for i in range(self.num_dimensions):\n",
        "        pos = random.uniform(bounds[i][0], bounds[i][1])\n",
        "        vel = random.uniform(bounds[i][0], bounds[i][1])\n",
        "\n",
        "        self.position.append(pos)\n",
        "        self.velocity.append(vel)"
      ]
    },
    {
      "cell_type": "markdown",
      "metadata": {
        "id": "oYXhrqLkWs5R"
      },
      "source": [
        "#### PSO Utils"
      ]
    },
    {
      "cell_type": "code",
      "execution_count": 3,
      "metadata": {
        "id": "F4n_yIVXUF2I"
      },
      "outputs": [],
      "source": [
        "class Utils:\n",
        "  @staticmethod\n",
        "  def euclidean_distance(p1, p2):\n",
        "    ans = 0\n",
        "\n",
        "    for i in range(len(p1.position)):\n",
        "      ans += (p1.position[i] -p2.position[i]) ** 2\n",
        "\n",
        "    return ans\n",
        "\n",
        "  @staticmethod\n",
        "  def find_closest(p, swarm):\n",
        "      min_dist = None\n",
        "      closest = None\n",
        "\n",
        "      for particle in swarm:\n",
        "        if particle == p:\n",
        "          continue\n",
        "\n",
        "        dist = Utils.euclidean_distance(p, particle)\n",
        "\n",
        "        if closest is None or dist < min_dist:\n",
        "          min_dist = dist\n",
        "          closest = particle\n",
        "\n",
        "      return closest"
      ]
    },
    {
      "cell_type": "markdown",
      "metadata": {
        "id": "Ay5BcpZmWw3o"
      },
      "source": [
        "#### PSO Operators"
      ]
    },
    {
      "cell_type": "code",
      "execution_count": 4,
      "metadata": {
        "id": "lX3G5uDQW8-z"
      },
      "outputs": [],
      "source": [
        "class Operators:\n",
        "  @staticmethod\n",
        "  def adjust_velocity(swarm):\n",
        "    population_adjusted = []\n",
        "\n",
        "    for particle in swarm:\n",
        "      closest = Utils.find_closest(particle, swarm)\n",
        "      particle.velocity = closest.velocity\n",
        "\n",
        "      population_adjusted.append(particle)\n",
        "\n",
        "    return population_adjusted\n",
        "\n",
        "  @staticmethod\n",
        "  def craziness(swarm, bounds, num_dimensions):\n",
        "    population_crazy = []\n",
        "    CRAZINESS_PROBABILITY = 0.01\n",
        "\n",
        "    for particle in swarm:\n",
        "      prob = random.uniform(0, 1)\n",
        "      if prob < CRAZINESS_PROBABILITY:\n",
        "        new_velocity = []\n",
        "        for i in range(num_dimensions):\n",
        "          vel = random.uniform(bounds[i][0],bounds[i][1])\n",
        "          new_velocity.append(vel)\n",
        "        \n",
        "        particle.velocity = new_velocity\n",
        "\n",
        "      population_crazy.append(particle)\n",
        "\n",
        "    return population_crazy\n",
        "\n",
        "  def update_position(swarm, num_dimensions):\n",
        "    population_updated = []\n",
        "\n",
        "    for particle in swarm:\n",
        "      new_position = []\n",
        "\n",
        "      for i in range(num_dimensions):\n",
        "        pos = particle.position[i] + particle.velocity[i]\n",
        "        new_position.append(pos)\n",
        "\n",
        "      particle.position = new_position\n",
        "      population_updated.append(particle)\n",
        "\n",
        "    return population_updated"
      ]
    },
    {
      "cell_type": "markdown",
      "metadata": {
        "id": "lnEakp5yczDA"
      },
      "source": [
        "#### Main"
      ]
    },
    {
      "cell_type": "code",
      "execution_count": 5,
      "metadata": {
        "colab": {
          "base_uri": "https://localhost:8080/",
          "height": 694
        },
        "id": "xhj4puw5czqW",
        "outputId": "7f4e1b60-2fe6-4f6b-c04b-52c7e189b650"
      },
      "outputs": [
        {
          "name": "stdout",
          "output_type": "stream",
          "text": [
            "Starting\n",
            "Starting iterations\n",
            "Iteration 0\n",
            "Iteration 1\n",
            "Iteration 2\n",
            "Iteration 3\n",
            "Iteration 4\n",
            "Iteration 5\n",
            "Iteration 6\n",
            "Iteration 7\n",
            "Iteration 8\n",
            "Iteration 9\n",
            "Iteration 10\n",
            "Iteration 11\n",
            "Iteration 12\n",
            "Iteration 13\n",
            "Iteration 14\n",
            "Iteration 15\n",
            "Iteration 16\n",
            "Iteration 17\n",
            "Iteration 18\n",
            "Iteration 19\n",
            "Iteration 20\n",
            "Iteration 21\n",
            "Iteration 22\n",
            "Iteration 23\n",
            "Iteration 24\n",
            "Iteration 25\n",
            "Iteration 26\n",
            "Iteration 27\n",
            "Iteration 28\n",
            "Iteration 29\n",
            "Iteration 30\n",
            "Iteration 31\n",
            "Iteration 32\n",
            "Iteration 33\n",
            "Iteration 34\n",
            "Iteration 35\n",
            "Iteration 36\n",
            "Iteration 37\n",
            "Iteration 38\n",
            "Iteration 39\n",
            "Iteration 40\n",
            "Iteration 41\n",
            "Iteration 42\n",
            "Iteration 43\n",
            "Iteration 44\n",
            "Iteration 45\n",
            "Iteration 46\n",
            "Iteration 47\n",
            "Iteration 48\n",
            "Iteration 49\n"
          ]
        },
        {
          "data": {
            "image/png": "[encoded data removed]",
            "text/plain": [
              "<Figure size 432x288 with 1 Axes>"
            ]
          },
          "metadata": {
            "needs_background": "light"
          },
          "output_type": "display_data"
        }
      ],
      "source": [
        "from plot_utils import PlotUtils\n",
        "\n",
        "print(\"Starting\")\n",
        "\n",
        "num_iterations = 50\n",
        "num_particles = 100\n",
        "num_dimensions = 2\n",
        "\n",
        "bounds = [\n",
        "    [-30, 30], # dimensão X\n",
        "    [-30, 30], # dimensão Y\n",
        "]\n",
        "\n",
        "swarm = []\n",
        "\n",
        "for _ in range(num_particles):\n",
        "  swarm.append(Particle(num_dimensions, bounds))\n",
        "\n",
        "print(\"Starting iterations\")\n",
        "\n",
        "i = 0\n",
        "while i < num_iterations:\n",
        "  print(f\"Iteration {i}\")\n",
        "  \n",
        "  swarm = Operators.adjust_velocity(swarm)\n",
        "  swarm = Operators.craziness(swarm, bounds, num_dimensions)\n",
        "  swarm = Operators.update_position(swarm, num_dimensions)\n",
        "\n",
        "  for particle in swarm:\n",
        "    PlotUtils.plot_particle(particle)\n",
        "  PlotUtils.plot_iteration(i)\n",
        "\n",
        "  i += 1\n",
        "\n",
        "PlotUtils.save()\n",
        "PlotUtils.play()"
      ]
    }
  ],
  "metadata": {
    "colab": {
      "provenance": []
    },
    "kernelspec": {
      "display_name": "Python 3",
      "name": "python3"
    },
    "language_info": {
      "codemirror_mode": {
        "name": "ipython",
        "version": 3
      },
      "file_extension": ".py",
      "mimetype": "text/x-python",
      "name": "python",
      "nbconvert_exporter": "python",
      "pygments_lexer": "ipython3",
      "version": "3.8.10"
    }
  },
  "nbformat": 4,
  "nbformat_minor": 0
}
