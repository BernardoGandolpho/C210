{
  "nbformat": 4,
  "nbformat_minor": 0,
  "metadata": {
    "colab": {
      "name": "Busca Gulosa.ipynb",
      "provenance": [],
      "collapsed_sections": []
    },
    "kernelspec": {
      "name": "python3",
      "display_name": "Python 3"
    },
    "language_info": {
      "name": "python"
    }
  },
  "cells": [
    {
      "cell_type": "code",
      "execution_count": null,
      "metadata": {
        "id": "hP8vTEuvNzQv"
      },
      "outputs": [],
      "source": [
        "import numpy as np"
      ]
    },
    {
      "cell_type": "markdown",
      "source": [
        "### Classe para o problema"
      ],
      "metadata": {
        "id": "lzVObrw2OAKm"
      }
    },
    {
      "cell_type": "code",
      "source": [
        "class SlidingPuzzle:\n",
        "  def __init__(self, num_blocos):\n",
        "    self.num_blocos = num_blocos\n",
        "\n",
        "  def _encontra_posicao(self, estado, elemento):\n",
        "    for i in range(self.num_blocos):\n",
        "      for j in range(self.num_blocos):\n",
        "        if elemento == estado[i, j]:\n",
        "          return i, j\n",
        "    return None, None\n",
        "\n",
        "  def verifica_estados(self, atual, objetivo):\n",
        "    for i in range(self.num_blocos):\n",
        "      for j in range(self.num_blocos):\n",
        "        if atual[i, j] != objetivo[i, j]:\n",
        "          return False\n",
        "    return True\n",
        "\n",
        "  def expande_estados(self, atual):\n",
        "    novos_estados = []\n",
        "\n",
        "    linha, coluna = self._encontra_posicao(atual, 0)\n",
        "\n",
        "    # Cima\n",
        "    if linha > 0:\n",
        "      nova_linha = linha - 1\n",
        "      novo_estado = np.copy(atual)\n",
        "\n",
        "      bloco_alvo = atual[nova_linha, coluna]\n",
        "      novo_estado[nova_linha, coluna] = 0\n",
        "      novo_estado[linha, coluna] = bloco_alvo\n",
        "      novos_estados.append(novo_estado)\n",
        "\n",
        "    # Baixo\n",
        "    if linha < self.num_blocos - 1:\n",
        "      nova_linha = linha + 1\n",
        "      novo_estado = np.copy(atual)\n",
        "\n",
        "      bloco_alvo = atual[nova_linha, coluna]\n",
        "      novo_estado[nova_linha, coluna] = 0\n",
        "      novo_estado[linha, coluna] = bloco_alvo\n",
        "      novos_estados.append(novo_estado)\n",
        "\n",
        "    # Esquerda\n",
        "    if coluna > 0:\n",
        "      nova_coluna = coluna - 1\n",
        "      novo_estado = np.copy(atual)\n",
        "\n",
        "      bloco_alvo = atual[linha, nova_coluna]\n",
        "      novo_estado[linha, nova_coluna] = 0\n",
        "      novo_estado[linha, coluna] = bloco_alvo\n",
        "      novos_estados.append(novo_estado)\n",
        "\n",
        "    # Direita\n",
        "    if coluna < self.num_blocos - 1:\n",
        "      nova_coluna = coluna + 1\n",
        "      novo_estado = np.copy(atual)\n",
        "\n",
        "      bloco_alvo = atual[linha, nova_coluna]\n",
        "      novo_estado[linha, nova_coluna] = 0\n",
        "      novo_estado[linha, coluna] = bloco_alvo\n",
        "      novos_estados.append(novo_estado)\n",
        "\n",
        "    return novos_estados\n",
        "\n",
        "  def distancia_manhattan(self, atual, objetivo):\n",
        "    total_dist = 0\n",
        "\n",
        "    for i in range(self.num_blocos):\n",
        "      for j in range(self.num_blocos):\n",
        "        elemento = atual[i, j]\n",
        "        linha, coluna = self._encontra_posicao(objetivo, elemento)\n",
        "\n",
        "        dist = abs(linha - i) + abs(coluna - j)\n",
        "        total_dist += dist\n",
        "\n",
        "    return total_dist"
      ],
      "metadata": {
        "id": "vwDqBN1HOCAA"
      },
      "execution_count": null,
      "outputs": []
    },
    {
      "cell_type": "markdown",
      "source": [
        "### Classe para a busca"
      ],
      "metadata": {
        "id": "Fbiqaw_yOOuV"
      }
    },
    {
      "cell_type": "code",
      "source": [
        "import heapq\n",
        "\n",
        "class BuscaGulosa():\n",
        "  def __init__(self, problema):\n",
        "    self.problema = problema\n",
        "\n",
        "  def _verifica_visitado(self, estado, estados_visitados):\n",
        "    for i in estados_visitados:\n",
        "      if self.problema.verifica_estados(i, estado):\n",
        "        return True\n",
        "    return False\n",
        "\n",
        "  def busca(self, inicio, fim):\n",
        "    p_fila = []\n",
        "    \n",
        "    # H, ID, elemento\n",
        "    heapq.heappush(p_fila, (0, 0, inicio))\n",
        "\n",
        "    id_estado = 0\n",
        "    solucao_encontrada = False\n",
        "    estados_visitados = []\n",
        "    cont_estados = 0\n",
        "\n",
        "    while len(p_fila) != 0:\n",
        "      atual = heapq.heappop(p_fila)[2]\n",
        "      estados_visitados.append(atual)\n",
        "\n",
        "      if self.problema.verifica_estados(atual, fim):\n",
        "        solucao_encontrada = True\n",
        "        break\n",
        "      else:\n",
        "        cont_estados += 1\n",
        "        print(\"Visitando #\", cont_estados)\n",
        "        novos_estados = self.problema.expande_estados(atual)\n",
        "\n",
        "        for i in novos_estados:\n",
        "          if not self._verifica_visitado(i, estados_visitados):\n",
        "            id_estado += 1\n",
        "            prioridade = self.problema.distancia_manhattan(i, fim)\n",
        "\n",
        "            print(i, \"\\nh = \", prioridade)\n",
        "            heapq.heappush(p_fila, (prioridade, id_estado, i))\n",
        "\n",
        "    return solucao_encontrada, estados_visitados, cont_estados  "
      ],
      "metadata": {
        "id": "K_Luh08DONyq"
      },
      "execution_count": null,
      "outputs": []
    },
    {
      "cell_type": "markdown",
      "source": [
        "### Main"
      ],
      "metadata": {
        "id": "UVqj_hIlReYg"
      }
    },
    {
      "cell_type": "code",
      "source": [
        "start = np.matrix([[2, 8, 3], [1, 6, 4], [7, 0, 5]])\n",
        "target = np.matrix([[1, 2, 3], [8, 0, 4], [7, 6, 5]])"
      ],
      "metadata": {
        "id": "h2lI5pgkReo2"
      },
      "execution_count": null,
      "outputs": []
    },
    {
      "cell_type": "code",
      "source": [
        "problema = SlidingPuzzle(3)\n",
        "gulosa = BuscaGulosa(problema)"
      ],
      "metadata": {
        "id": "pYmsSedjRgf3"
      },
      "execution_count": null,
      "outputs": []
    },
    {
      "cell_type": "code",
      "source": [
        "solucao, visitados, passos = gulosa.busca(start, target)\n",
        "\n",
        "if solucao:\n",
        "  print(\"Solução encontrada com\", passos)\n",
        "else:\n",
        "  print(\"Solução não foi encontrada\")"
      ],
      "metadata": {
        "id": "a1L98vcXRs2G"
      },
      "execution_count": null,
      "outputs": []
    }
  ]
}