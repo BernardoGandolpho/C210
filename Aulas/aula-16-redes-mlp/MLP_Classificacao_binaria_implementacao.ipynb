{
  "cells": [
    {
      "cell_type": "markdown",
      "metadata": {
        "id": "tMY9PzEVplL9"
      },
      "source": [
        "## Multilayer Perceptron (MLP)"
      ]
    },
    {
      "cell_type": "code",
      "execution_count": null,
      "metadata": {
        "id": "p_CNq3D1plMA"
      },
      "outputs": [],
      "source": [
        "import numpy as np\n",
        "import matplotlib.pyplot as plt\n",
        "import math"
      ]
    },
    {
      "cell_type": "code",
      "execution_count": null,
      "metadata": {
        "colab": {
          "base_uri": "https://localhost:8080/",
          "height": 281
        },
        "id": "VGnWu9o-plMB",
        "outputId": "e37945c7-5d77-45f2-f0da-f9ec80a722e8"
      },
      "outputs": [
        {
          "output_type": "display_data",
          "data": {
            "text/plain": [
              "<Figure size 432x288 with 1 Axes>"
            ],
            "image/png": "[encoded data removed]"
          },
          "metadata": {
            "needs_background": "light"
          }
        }
      ],
      "source": [
        "np.random.seed(42)\n",
        "\n",
        "# x = np.array([[1.0, 1.0], [2.1, 2.4], [1.1, 0.3], [2.3, 3.2], [0.1, 0.6],\n",
        "#               [0.5, 1.6], [1.7, 2.3], [0.7, 1.6], [3.2, 0.1], [2.2, 1.1],\n",
        "#               [0.8, 1.9], [2.4, 1.6], [1.2, 1.2], [5.2, 7.2], [6.6, 4.5],\n",
        "#               [4.9, 8.1], [7.6, 5.9], [8.8, 9.0], [5.6, 7.8], [8.8, 5.6],\n",
        "#               [7.9, 9.1], [6.8, 9.2], [8.8, 6.9], [9.3, 5.6], [5.7, 7.5]\n",
        "#              ])\n",
        "\n",
        "\n",
        "# d = np.array([[1],[1],[1],[1],[1],[1],[1],[1],[1],[1],[1],[1],[1],\n",
        "#               [0],[0],[0],[0],[0],[0],[0],[0],[0],[0],[0],[0]])\n",
        "\n",
        "\n",
        "x = np.array([[0.0, 0.0], [0.0, 1.0], [1.0, 0.0], [1.0, 1.0]])\n",
        "d = np.array([[0],[1],[1],[0]])\n",
        "\n",
        "\n",
        "shuffle = np.random.permutation(len(x))\n",
        "x = x[shuffle]\n",
        "d = d[shuffle]\n",
        "\n",
        "plt.figure(figsize=(6,4))\n",
        "plt.title(\"Data points\")\n",
        "plt.scatter(x[:, 0], x[:, 1], c = d, cmap = 'bwr')\n",
        "plt.show()"
      ]
    },
    {
      "cell_type": "code",
      "execution_count": null,
      "metadata": {
        "id": "Ch_9RCmaplMC"
      },
      "outputs": [],
      "source": [
        "class MLP():\n",
        "    \n",
        "    def __init__(self, lr, e, neurons):\n",
        "        \"\"\" Construtor \"\"\"\n",
        "        # Taxa de aprendizado \n",
        "        self.lr = lr\n",
        "        \n",
        "        # tolerância\n",
        "        self.e = e\n",
        "        \n",
        "        # Quantidade de neurônios por camadas\n",
        "        self.neurons = neurons\n",
        "        \n",
        "        \n",
        "    def sigmoid(self, valor):\n",
        "        '''Calcula a sigmoid de um valor'''\n",
        "        return (1/(1+math.e**(-valor)))\n",
        "\n",
        "    def sigmoid_deriv(self, valor):\n",
        "        '''Calcula a derivada da função sigmoid'''\n",
        "        sig = self.sigmoid(valor)\n",
        "        return sig*(1 - sig)\n",
        "\n",
        "    def activate(self, valor):\n",
        "        '''Ativa as saídas do neurônio'''\n",
        "        return self.sigmoid(valor)\n",
        "    \n",
        "    def deriv(self, valor):\n",
        "        '''Calcular a derivada da função de ativação'''\n",
        "        return self.sigmoid_deriv(valor)\n",
        "\n",
        "    def evaluate(self, target, predicted):\n",
        "        '''Calcula a diferença entre o valor real e o valor predito'''\n",
        "        return (target - predicted)\n",
        "\n",
        "    def predict(self, input_data, weights):\n",
        "        '''Calcula a soma ponderada das entradas pelo peso'''\n",
        "        return np.dot(input_data, weights).reshape(1, -1)\n",
        "    \n",
        "    \n",
        "    def train(self, x, d):\n",
        "        ''' \n",
        "        Definir aleatoriamente os pesos, o bias e o peso do bias\n",
        "        Enquanto a diferença entre m mse_anterior e o mse_atual for maior que 'e' continua o processo \n",
        "       '''\n",
        "        self.w1 = np.random.random((x.shape[1] + 1, self.neurons[0]))\n",
        "        self.w2 = np.random.random((self.neurons[0], self.neurons[1]))\n",
        "        self.w3 = np.random.random((self.neurons[1], self.neurons[2]))\n",
        "        \n",
        "        epoch = 0\n",
        "        last_mse = np.inf\n",
        "        self.bias = -1\n",
        "        \n",
        "        while True:\n",
        "            mse = 0\n",
        "            for xi, target in zip(x, d):\n",
        "                input_value = np.insert(xi, 0, self.bias)\n",
        "                \n",
        "                i1 = self.predict(input_value, self.w1)\n",
        "                y1 = self.activate(i1)\n",
        "                \n",
        "                i2 = self.predict(y1, self.w2)\n",
        "                y2 = self.activate(i2)\n",
        "                \n",
        "                i3 = self.predict(y2, self.w3)\n",
        "                y3 = self.activate(i3)\n",
        "                \n",
        "                current_error = self.evaluate(target, y3)\n",
        "                mse += current_error ** 2\n",
        "                \n",
        "                delta3 = current_error * self.deriv(i3)\n",
        "                self.w3 += self.lr * np.dot(y2.T, delta3)\n",
        "                \n",
        "                delta2 = np.dot(delta3, self.w3.T) * self.deriv(i2)\n",
        "                self.w2 += self.lr * np.dot(y1.T, delta2)\n",
        "                \n",
        "                delta1 = np.dot(delta2, self.w2.T) * self.deriv(i1)\n",
        "                self.w1 += self.lr * np.dot(input_value.reshape(1, -1).T, delta1)\n",
        "                \n",
        "            mse = mse / len(x)\n",
        "            print(f\"EPOCH: {epoch} - MSE: {mse} - |mse_ant - mse|: {abs(last_mse - mse)}\")\n",
        "            if abs(last_mse - mse) <= self.e and mse < 0.01:\n",
        "                break\n",
        "                \n",
        "            last_mse = mse\n",
        "            epoch += 1\n",
        "            \n",
        "    def test(self, x):\n",
        "        ''' Dado uma lista de X, submete-os à rede'''\n",
        "        results = []\n",
        "        for xi in x:\n",
        "            input_value = np.insert(xi, 0, self.bias)\n",
        "            i1 = self.predict(input_value, self.w1)\n",
        "            y1 = self.activate(i1)\n",
        "            i2 = self.predict(y1, self.w2)\n",
        "            y2 = self.activate(i2)\n",
        "            i3 = self.predict(y2, self.w3)\n",
        "            y3 = self.activate(i3)\n",
        "            \n",
        "            results.append(int(np.rint(y3)))\n",
        "            \n",
        "        return results"
      ]
    },
    {
      "cell_type": "code",
      "execution_count": null,
      "metadata": {
        "scrolled": true,
        "id": "ew8WSWBsplME"
      },
      "outputs": [],
      "source": [
        "rede = MLP(lr = 0.1, e = 1e-6, neurons = [8, 6, 1])\n",
        "\n",
        "rede.train(x = x, d = d)"
      ]
    },
    {
      "cell_type": "code",
      "execution_count": null,
      "metadata": {
        "colab": {
          "base_uri": "https://localhost:8080/"
        },
        "id": "JTGezPIGplME",
        "outputId": "018d4343-ef11-459f-ab98-70001c581e7e"
      },
      "outputs": [
        {
          "output_type": "execute_result",
          "data": {
            "text/plain": [
              "[0, 0, 0, 1, 1, 0]"
            ]
          },
          "metadata": {},
          "execution_count": 21
        }
      ],
      "source": [
        "x_teste = np.array([[1.0, 9.0],[7.4, 4.5],[6.1, 3.2],[1.2, 5.7],[2.4, 3.8],[6.3, 4.9]])\n",
        "# x_teste = x\n",
        "teste_resultado = rede.test(x_teste)\n",
        "teste_resultado"
      ]
    },
    {
      "cell_type": "code",
      "execution_count": null,
      "metadata": {
        "colab": {
          "base_uri": "https://localhost:8080/",
          "height": 499
        },
        "id": "6oU9mOszplMF",
        "outputId": "75b007b3-d0e2-4b93-f5f4-bf6be60813fe"
      },
      "outputs": [
        {
          "output_type": "display_data",
          "data": {
            "text/plain": [
              "<Figure size 864x576 with 1 Axes>"
            ],
            "image/png": "[encoded data removed]"
          },
          "metadata": {
            "needs_background": "light"
          }
        }
      ],
      "source": [
        "plt.figure(figsize=(12,8))\n",
        "plt.title(\"Data points + Predicted\")\n",
        "plt.scatter(x[:, 0], x[:, 1], c = d, cmap = 'bwr')\n",
        "plt.scatter(x_teste[:, 0], x_teste[:, 1], c = teste_resultado, cmap = 'bwr', marker = \"*\", s=250)\n",
        "plt.show()"
      ]
    },
    {
      "cell_type": "code",
      "execution_count": null,
      "metadata": {
        "id": "sAPmnNLMplMF"
      },
      "outputs": [],
      "source": []
    }
  ],
  "metadata": {
    "kernelspec": {
      "display_name": "Python 3",
      "language": "python",
      "name": "python3"
    },
    "language_info": {
      "codemirror_mode": {
        "name": "ipython",
        "version": 3
      },
      "file_extension": ".py",
      "mimetype": "text/x-python",
      "name": "python",
      "nbconvert_exporter": "python",
      "pygments_lexer": "ipython3",
      "version": "3.7.9"
    },
    "colab": {
      "provenance": []
    }
  },
  "nbformat": 4,
  "nbformat_minor": 0
}