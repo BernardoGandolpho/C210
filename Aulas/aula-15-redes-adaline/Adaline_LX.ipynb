{
  "nbformat": 4,
  "nbformat_minor": 0,
  "metadata": {
    "colab": {
      "provenance": []
    },
    "kernelspec": {
      "name": "python3",
      "display_name": "Python 3"
    },
    "language_info": {
      "name": "python"
    }
  },
  "cells": [
    {
      "cell_type": "code",
      "source": [
        "import os\n",
        "import numpy as np"
      ],
      "metadata": {
        "id": "Is2ZLJeJ-tcq"
      },
      "execution_count": null,
      "outputs": []
    },
    {
      "cell_type": "markdown",
      "source": [
        "#### DataSets"
      ],
      "metadata": {
        "id": "cJCUT6I1Ajtm"
      }
    },
    {
      "cell_type": "code",
      "source": [
        "class DataSets:\n",
        "  @staticmethod\n",
        "  def add_bias(arr, bias = -1):\n",
        "    biased_arr = np.ndarray(shape=(arr.shape[0], arr.shape[1]+1), dtype=float)\n",
        "    for i in range(0, len(arr)):\n",
        "      biased_arr[i] = np.append(bias, arr[i])\n",
        "\n",
        "    return biased_arr"
      ],
      "metadata": {
        "id": "C2NgruONAnFk"
      },
      "execution_count": null,
      "outputs": []
    },
    {
      "cell_type": "markdown",
      "source": [
        "#### Math"
      ],
      "metadata": {
        "id": "_N6fGIFR-dh9"
      }
    },
    {
      "cell_type": "code",
      "execution_count": null,
      "metadata": {
        "id": "1jqoehpp-LWB"
      },
      "outputs": [],
      "source": [
        "class ActivationFunctions:\n",
        "  @staticmethod\n",
        "  def heaviside(v):\n",
        "    if v >= 0:\n",
        "      return 1\n",
        "    else:\n",
        "      return 0\n",
        "\n",
        "  @staticmethod\n",
        "  def heaviside_symmetric(v):\n",
        "    return np.sign(v)\n",
        "\n",
        "class MathUtils:\n",
        "  @staticmethod\n",
        "  def mean_squared_error(w, x, d):\n",
        "    mse = 0\n",
        "    for i in range(len(x)):\n",
        "      v = np.dot(np.transpose(w), x[i])\n",
        "      mse = mse + pow(d[i] - v, 2)\n",
        "\n",
        "    mse = mse / len(x)\n",
        "    return mse"
      ]
    },
    {
      "cell_type": "markdown",
      "source": [
        "#### Plot Utils"
      ],
      "metadata": {
        "id": "TUsjJC0t_Ehs"
      }
    },
    {
      "cell_type": "code",
      "source": [
        "import matplotlib.pyplot as plt\n",
        "from matplotlib.ticker import MaxNLocator\n",
        "\n",
        "class PlotUtils:\n",
        "  def plot(x, _xlabel, y, _ylabel):\n",
        "    if len(x) == 1 and len(y) == 1:\n",
        "      print(\"Error in plot!! Len == 1\")\n",
        "    else:\n",
        "      ax = plt.gca()\n",
        "      ax.plot(x, y, color=\"blue\", linewidth=1.5)\n",
        "      ax.xaxis.set_major_locator(MaxNLocator(integer=True))\n",
        "\n",
        "      ax.set_xlim([np.min(x), np.max(x)])\n",
        "      ax.set_ylim([np.min(y), np.max(y)])\n",
        "\n",
        "      ax.set_xlabel(_xlabel)\n",
        "      ax.set_ylabel(_ylabel)\n",
        "      ax.set_title(f\"{_xlabel} vs {_ylabel}\")\n",
        "\n",
        "      ax.grid()\n",
        "      plt.show()"
      ],
      "metadata": {
        "id": "b9V9t5pa-xIe"
      },
      "execution_count": null,
      "outputs": []
    },
    {
      "cell_type": "markdown",
      "source": [
        "#### Adaline"
      ],
      "metadata": {
        "id": "rYCgxYV-_Szb"
      }
    },
    {
      "cell_type": "code",
      "source": [
        "class Adaline:\n",
        "  def __init__(self, n, g, e):\n",
        "    self.n = n # learning rate\n",
        "    self.g = g # activation function\n",
        "    self.e = e # error variation tolerance\n",
        "    self.plot_data_x = [] # epochs for plotting\n",
        "    self.plot_data_y = [] # eqms for plotting\n",
        "\n",
        "  def train(self, x, d):\n",
        "    k = len(x)\n",
        "    w = np.random.rand(len(x[0]))\n",
        "    epoch = 0\n",
        "\n",
        "    while True:\n",
        "      mse_before = MathUtils.mean_squared_error(w, x, d)\n",
        "      for i in range(0, k):\n",
        "        v = np.dot(np.transpose(w), x[i])\n",
        "        w = np.add(w, np.multiply(x[i], self.n * (d[i] - v)))\n",
        "      \n",
        "      epoch += 1\n",
        "      mse_after = MathUtils.mean_squared_error(w, x, d)\n",
        "\n",
        "      # print(f\"Epoch: {epoch}\\tWeights: {w}\\tError: {mse_after:.12f}\")\n",
        "\n",
        "      self.plot_data_x.append(epoch)\n",
        "      self.plot_data_y.append(mse_after)\n",
        "\n",
        "      if abs(mse_after - mse_before) <= self.e:\n",
        "        break\n",
        "\n",
        "    return w\n",
        "\n",
        "  def test(self, w, x):\n",
        "    v = np.dot(np.transpose(w), x)\n",
        "    y = self.g(v)\n",
        "    return y\n",
        "  \n",
        "  def evaluate(self, w, x, d):\n",
        "    correct = 0\n",
        "    total = len(x)\n",
        "\n",
        "    for i in range(0, len(x)):\n",
        "      y = self.test(w, x[i])\n",
        "      if (y == d[i]):\n",
        "        correct = correct + 1\n",
        "        \n",
        "    accuracy = 100.0 * (float(correct) / float(total))\n",
        "    print(f\"Accuracy: {accuracy:.2f}% ({correct}/{total})\")\n",
        "    return accuracy"
      ],
      "metadata": {
        "id": "b3qjHNLU_Tq-"
      },
      "execution_count": null,
      "outputs": []
    },
    {
      "cell_type": "markdown",
      "source": [
        "#### Main"
      ],
      "metadata": {
        "id": "vTJbDsFs_Ze0"
      }
    },
    {
      "cell_type": "code",
      "source": [
        "np.set_printoptions(formatter={\"float\": \"{: 0.6f}\".format})\n",
        "\n",
        "# Load data\n",
        "x = np.array([[0, 0],\n",
        "              [0, 1],\n",
        "              [1, 0],\n",
        "              [1, 1]])\n",
        "x = DataSets.add_bias(x)\n",
        "\n",
        "d = np.array([[0],\n",
        "              [0],\n",
        "              [1],\n",
        "              [1]])\n",
        "\n",
        "# Seting parameters\n",
        "n = 0.1\n",
        "g = ActivationFunctions.heaviside\n",
        "e = 1e-5\n",
        "\n",
        "# Creating Neural Network\n",
        "nn = Adaline(n, g, e)\n",
        "\n",
        "# Fitting w\n",
        "w = nn.train(x, d)\n",
        "\n",
        "# Accuracy\n",
        "acc = nn.evaluate(w, x, d)\n",
        "\n",
        "# Ploting\n",
        "#PlotUtils.plot(nn.plot_data_x, \"epoch\", nn.plot_data_y, \"error\")\n",
        "\n",
        "while 42:\n",
        "  x1 = int(input(\"Digite um valor: \"))\n",
        "  x2 = int(input(\"Digite outro valor: \"))\n",
        "\n",
        "  x_nn = [-1, x1, x2]\n",
        "  y_nn = nn.test(w, x_nn)\n",
        "\n",
        "  print(f\"{x1} AND {x2} = {y_nn}\")"
      ],
      "metadata": {
        "colab": {
          "base_uri": "https://localhost:8080/"
        },
        "id": "bdb5p3Od_aSP",
        "outputId": "7001e617-627f-4a1c-b8f5-5ffab4c93a99"
      },
      "execution_count": null,
      "outputs": [
        {
          "name": "stdout",
          "output_type": "stream",
          "text": [
            "Accuracy: 100.00% (4/4)\n",
            "Digite um valor: 1\n"
          ]
        }
      ]
    }
  ]
}